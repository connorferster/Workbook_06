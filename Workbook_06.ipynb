{
 "cells": [
  {
   "cell_type": "code",
   "execution_count": null,
   "metadata": {},
   "outputs": [],
   "source": [
    "from __future__ import annotations\n",
    "from typing import NamedTuple, List, Dict\n",
    "from dataclasses import dataclass\n",
    "import python_course"
   ]
  },
  {
   "cell_type": "markdown",
   "metadata": {},
   "source": [
    "# Workbook 6 - Designing Data\n"
   ]
  },
  {
   "cell_type": "markdown",
   "metadata": {},
   "source": [
    "# Task 1\n",
    "\n",
    "Design a datatype to describe the shape of a rectangle. There are many ways to do this so you can decide how it should be.\n",
    "\n",
    "You don't need to write tests or functions for this task, just follow the data definition steps from the lesson."
   ]
  },
  {
   "cell_type": "markdown",
   "metadata": {},
   "source": [
    "## Data Definition"
   ]
  },
  {
   "cell_type": "code",
   "execution_count": null,
   "metadata": {
    "tags": []
   },
   "outputs": [],
   "source": []
  },
  {
   "cell_type": "markdown",
   "metadata": {},
   "source": [
    "### Reviewer Comments"
   ]
  },
  {
   "cell_type": "code",
   "execution_count": null,
   "metadata": {},
   "outputs": [],
   "source": []
  },
  {
   "cell_type": "markdown",
   "metadata": {},
   "source": [
    "# Task 2\n",
    "\n",
    "The owner of an old second-hand book shop has asked you to help them catalogue their books because they have _finally_ decided that they want to put their inventory on their website.\n",
    "\n",
    "The bookshop owner has already started creating an Excel spreadsheet with the book data they want to have in their catalogue, which you can see below.\n",
    "\n",
    "Design a datatype called `Book` that captures the information stored in one record of the spreadsheet and design a function to convert a spreadsheet record into a `Book` object.\n",
    "\n",
    "The bookshop owner tells you that the rating system is not \"out of anything\" (i.e. it's not 4/5 or 3/10 or 5/6) but rather their own category system. Best not to assume anything about the rating system in your data type other than that is a number.\n",
    "\n",
    "Use the examples in your data definition to create your tests."
   ]
  },
  {
   "cell_type": "markdown",
   "metadata": {},
   "source": [
    "## Data"
   ]
  },
  {
   "cell_type": "code",
   "execution_count": null,
   "metadata": {},
   "outputs": [],
   "source": [
    "csv_book_data = [\n",
    "    [\"Title\", \"Author(s)\", \"Year published\", \"Edition\", \"ISBN\", \"Rating\"],\n",
    "    [\"Luminosity\", \"Frank & Gillian\", 1998, \"Trade Paperback\", \"0-679-31004-5\", 5],\n",
    "    [\"The Dispossessed\", \"LeGuin, Ursula K.\", 1974, \"Mass Market Paperback\", \"978-0-06-105488-4\", 4],\n",
    "    [\"The Natural Way to Draw\", \"Nicolaides, Kimon\", 1941, \"Trade Paperback\", \"0-395-53007-5\", 3]\n",
    "]"
   ]
  },
  {
   "cell_type": "markdown",
   "metadata": {},
   "source": [
    "## Data Definition"
   ]
  },
  {
   "cell_type": "code",
   "execution_count": null,
   "metadata": {},
   "outputs": [],
   "source": []
  },
  {
   "cell_type": "markdown",
   "metadata": {},
   "source": [
    "## Function"
   ]
  },
  {
   "cell_type": "code",
   "execution_count": null,
   "metadata": {},
   "outputs": [],
   "source": []
  },
  {
   "cell_type": "markdown",
   "metadata": {},
   "source": [
    "## Tests"
   ]
  },
  {
   "cell_type": "code",
   "execution_count": null,
   "metadata": {},
   "outputs": [],
   "source": []
  },
  {
   "cell_type": "markdown",
   "metadata": {},
   "source": [
    "### Reviewer Comments"
   ]
  },
  {
   "cell_type": "code",
   "execution_count": null,
   "metadata": {},
   "outputs": [],
   "source": []
  },
  {
   "cell_type": "markdown",
   "metadata": {},
   "source": [
    "# Task 3\n",
    "\n",
    "Using your Python knowledge, you think it would be fun to design a \"Todo list\" application. Start off by designing a data type to represent a todo list item called `TodoItem`. \n",
    "\n",
    "What kind of information should be stored in a todo list item? Well, it's your todo list so you decide! It can be as simple or as complicated as you like (however, I recommend simpler).\n",
    "\n",
    "After you have created your data definition, design a function that checks to see if a `TodoItem` is done or not. Use your examples from your data definition to write your tests.\n"
   ]
  },
  {
   "cell_type": "markdown",
   "metadata": {},
   "source": [
    "## Data Definition"
   ]
  },
  {
   "cell_type": "code",
   "execution_count": null,
   "metadata": {},
   "outputs": [],
   "source": []
  },
  {
   "cell_type": "markdown",
   "metadata": {},
   "source": [
    "## Function"
   ]
  },
  {
   "cell_type": "code",
   "execution_count": null,
   "metadata": {},
   "outputs": [],
   "source": []
  },
  {
   "cell_type": "markdown",
   "metadata": {},
   "source": [
    "## Tests"
   ]
  },
  {
   "cell_type": "code",
   "execution_count": null,
   "metadata": {},
   "outputs": [],
   "source": []
  },
  {
   "cell_type": "markdown",
   "metadata": {},
   "source": [
    "### Reviewer Comments"
   ]
  },
  {
   "cell_type": "code",
   "execution_count": null,
   "metadata": {},
   "outputs": [],
   "source": []
  },
  {
   "cell_type": "markdown",
   "metadata": {},
   "source": [
    "# Task 4\n",
    "\n",
    "A friend of yours is interested to do a survey of AM radio stations around Canada and, to organize the data and make the analysis easy, she asked if you could help with your Python skillz. \n",
    "\n",
    "To start, she gives you some basic information about AM radio:\n",
    "\n",
    "* AM radio frequencies are in kHz (kilohertz) and range from 540 to 1170 kHz in 10 kHz increments (e.g. 630 and 1060, but not 1172 or 945)\n",
    "* Each radio broadcaster in Canada is assigned a call sign. In Canada, that's a three or four character string (in all caps) that ranges alphabetically from \"CF\" to \"CK\" (e.g. \"CFUV\", \"CGAL\", \"CKZA\" are all in the range of \"CF__\" to \"CK__\")\n",
    "\n",
    "Design two atomic data definitions: `AMFreq` to describe an AM radio frequency and `AMCall`to describe a Canadian radio call sign.\n",
    "\n",
    "Afterwards, design a function called `valid_frequency` that takes an `AMFreq` as an argument. The function returns `True` if the frequency is a valid AM frequency and returns `False` otherwise."
   ]
  },
  {
   "cell_type": "markdown",
   "metadata": {},
   "source": [
    "## Data Definitions"
   ]
  },
  {
   "cell_type": "code",
   "execution_count": null,
   "metadata": {},
   "outputs": [],
   "source": []
  },
  {
   "cell_type": "markdown",
   "metadata": {},
   "source": [
    "## Function"
   ]
  },
  {
   "cell_type": "code",
   "execution_count": null,
   "metadata": {},
   "outputs": [],
   "source": []
  },
  {
   "cell_type": "markdown",
   "metadata": {},
   "source": [
    "## Test"
   ]
  },
  {
   "cell_type": "code",
   "execution_count": null,
   "metadata": {},
   "outputs": [],
   "source": []
  },
  {
   "cell_type": "markdown",
   "metadata": {},
   "source": [
    "### Reviewer Comments"
   ]
  },
  {
   "cell_type": "code",
   "execution_count": null,
   "metadata": {},
   "outputs": [],
   "source": []
  },
  {
   "cell_type": "markdown",
   "metadata": {
    "tags": []
   },
   "source": [
    "# Task 5\n",
    "\n",
    "A botanist friend of yours invites you out on a nature walk. You divulge to him that you would like to learn more about all of the different plants around Vancouver. He mentions that he is thinking of working on a \"Plants of Vancouver\" website and asked if you would be interested in helping. You think this is rad because you could practice your Python skillz at the same time gaining a good understanding about Vancouver's native plants.\n",
    "\n",
    "To start, you think it would be good to come up with a data definition for each kind of plant. You decide to start with a `DeciduousTrees` data type. Between the two of you, you come up with some sample data to start your work off of.\n",
    "\n",
    "Design a data definition for `DeciduousTrees` and then design a function that takes a record from `tree_samples` and converts it into a `DeciduousTrees` object."
   ]
  },
  {
   "cell_type": "markdown",
   "metadata": {},
   "source": [
    "## Data"
   ]
  },
  {
   "cell_type": "code",
   "execution_count": null,
   "metadata": {},
   "outputs": [],
   "source": [
    "tree_samples = [\n",
    "    [\"Latin Name\", \"Common Name\", \"Leaf Shape\", \"Bark Description\"],\n",
    "    [\"Acer saccharinum\", \"Silver Maple\", \"Palmate\", \"Gray/brown, longitudinally fissured\"],\n",
    "    [\"Fagus sylvatica\", \"European Beech\", \"Ovate\", \"Silver/grey, smooth\"],\n",
    "    [\"Aesculus hippocastanum\", \"Horse Chestnut\", \"Pedate\", \"Brown grey-green, smooth\"]\n",
    "]"
   ]
  },
  {
   "cell_type": "markdown",
   "metadata": {},
   "source": [
    "## Data Definition"
   ]
  },
  {
   "cell_type": "code",
   "execution_count": null,
   "metadata": {},
   "outputs": [],
   "source": []
  },
  {
   "cell_type": "markdown",
   "metadata": {},
   "source": [
    "## Function"
   ]
  },
  {
   "cell_type": "code",
   "execution_count": null,
   "metadata": {},
   "outputs": [],
   "source": []
  },
  {
   "cell_type": "markdown",
   "metadata": {},
   "source": [
    "## Tests"
   ]
  },
  {
   "cell_type": "code",
   "execution_count": null,
   "metadata": {},
   "outputs": [],
   "source": []
  },
  {
   "cell_type": "markdown",
   "metadata": {},
   "source": [
    "### Reviewer Comments"
   ]
  },
  {
   "cell_type": "code",
   "execution_count": null,
   "metadata": {},
   "outputs": [],
   "source": []
  },
  {
   "attachments": {
    "5a47171b-b28a-41b5-88d6-8d72f6389f03.png": {
     "image/png": "[encoded data removed]"
    },
    "8c5bd81e-15be-4772-a120-8e4a95381140.png": {
     "image/png": "[encoded data removed]"
    }
   },
   "cell_type": "markdown",
   "metadata": {},
   "source": [
    "# Task 6\n",
    "\n",
    "The game, \"Battleship\", is a pencil-and-paper game played on a 10x10 grid where players secretly place an array of ships upon their own grid and each player takes turns guessing the coordinates of their opponent's ships.\n",
    "\n",
    "In the graphic below ([source](https://en.wikipedia.org/wiki/Battleship_(game))), a player's ships are marked in grey squares and their opponent's guesses have been marked with \"X\"s.\n",
    "\n",
    "![image.png](attachment:5a47171b-b28a-41b5-88d6-8d72f6389f03.png)\n",
    "\n",
    "Generally speaking, there are five types of ships that a player places on the grid:\n",
    "\n",
    "![image.png](attachment:8c5bd81e-15be-4772-a120-8e4a95381140.png)\n",
    "\n",
    "Design a data type called `Ship` that has three properties: \n",
    "\n",
    "* name (e.g. \"Carrier\", \"Battleship\", etc. as above)\n",
    "* size (e.g. 5, 4, 3, or 2)\n",
    "* coords (to store the location of the grid squares the ship sits upon)\n",
    "\n",
    "**Note: to make this convenient, our battleship grid will be A-J and 0-9 instead of 1-10.**\n",
    "\n",
    "Write a function called `test_all_unique_squares` that takes a single `Ship` argument and returns True if the ship is placed on all unique coordinate squares and returns False if the ship is placed on one or more duplicate squares.\n",
    "\n",
    "### Bonus\n",
    "\n",
    "If you are up for the challenge, write a second function called `all_consecutive_squares` that takes a single `Ship` argument and returns True if the squares that the ship covers are all adjacent to each other, either horizontally or vertically (assume the squares are in consecutive order). Returns False if the squares are not all beside each other.\n",
    "\n",
    "If you complete the bonus, create a (small) third function called `test_valid_placement` that takes a single `Ship` argument and returns True if the placement of the ship is valid (i.e. both `test_all_unique_squares` and `all_consecutive_squares` return True).\n"
   ]
  },
  {
   "cell_type": "markdown",
   "metadata": {},
   "source": [
    "## Data Definition"
   ]
  },
  {
   "cell_type": "code",
   "execution_count": null,
   "metadata": {},
   "outputs": [],
   "source": []
  },
  {
   "cell_type": "markdown",
   "metadata": {},
   "source": [
    "## Function"
   ]
  },
  {
   "cell_type": "code",
   "execution_count": null,
   "metadata": {},
   "outputs": [],
   "source": []
  },
  {
   "cell_type": "markdown",
   "metadata": {},
   "source": [
    "## Tests"
   ]
  },
  {
   "cell_type": "code",
   "execution_count": null,
   "metadata": {},
   "outputs": [],
   "source": []
  },
  {
   "cell_type": "markdown",
   "metadata": {},
   "source": [
    "### Reviewer Comments"
   ]
  },
  {
   "cell_type": "code",
   "execution_count": null,
   "metadata": {},
   "outputs": [],
   "source": []
  },
  {
   "cell_type": "markdown",
   "metadata": {},
   "source": [
    "# Submit Workbook 06 🚢\n",
    "\n",
    "Congratulations on completing Workbook 06! You are now on the way to writing your _first, complete program!_\n",
    "\n",
    "Next week, you will be reading _real data from a file_ and designing your first analysis program. You know how to do all of the steps now and next week you will learn how to put it all together."
   ]
  },
  {
   "cell_type": "code",
   "execution_count": null,
   "metadata": {},
   "outputs": [],
   "source": [
    "#python_course.submit_workbook(\"Workbook_06\", \"cferster@rjc.ca\", cc_me=True)"
   ]
  }
 ],
 "metadata": {
  "kernelspec": {
   "display_name": "Python 3",
   "language": "python",
   "name": "python3"
  },
  "language_info": {
   "codemirror_mode": {
    "name": "ipython",
    "version": 3
   },
   "file_extension": ".py",
   "mimetype": "text/x-python",
   "name": "python",
   "nbconvert_exporter": "python",
   "pygments_lexer": "ipython3",
   "version": "3.8.8"
  }
 },
 "nbformat": 4,
 "nbformat_minor": 4
}
