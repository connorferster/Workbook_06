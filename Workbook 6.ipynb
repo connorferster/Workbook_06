{
 "cells": [
  {
   "cell_type": "markdown",
   "metadata": {},
   "source": [
    "# Workbook 6 - Designing Data\n",
    "\n",
    "This week's workbook will be entirely about designing compound data types. You don't need to write any tests for data types but you do need to complete the four steps for each data type.\n",
    "\n",
    "Additionally, some of the data types might require a \"sub data type\" to be designed to go with it. You can use any combination of the data types we have learned about thus far in the course.\n",
    "\n",
    "This will be a faster workbook to complete than previous weeks."
   ]
  },
  {
   "cell_type": "markdown",
   "metadata": {},
   "source": [
    "## Task 1\n",
    "\n",
    "Design a data type to represent the volume of a loudspeaker in decibels as it is played into a room (you will set-up a sensor to capture the decibel data). The datatype should be able to also represent when the speaker is turned off."
   ]
  },
  {
   "cell_type": "code",
   "execution_count": null,
   "metadata": {},
   "outputs": [],
   "source": []
  },
  {
   "cell_type": "markdown",
   "metadata": {},
   "source": [
    "## Task 2\n",
    "\n",
    "Design a data type to represent an FM radio frequency for use on a digital FM radio software program. Note, that digital FM radios work in discrete interval steps."
   ]
  },
  {
   "cell_type": "code",
   "execution_count": null,
   "metadata": {},
   "outputs": [],
   "source": []
  },
  {
   "cell_type": "markdown",
   "metadata": {},
   "source": [
    "## Task 3\n",
    "\n",
    "A friend of yours has come across a huge collection of vintage records that have never been digitized before. She has asked if you can help with cataloguing them all and making the collection searchable to by artist, album, song, and date recorded.\n",
    "\n",
    "Create a `VinylRecord` data type that can accomplish this."
   ]
  },
  {
   "cell_type": "code",
   "execution_count": null,
   "metadata": {},
   "outputs": [],
   "source": []
  },
  {
   "cell_type": "markdown",
   "metadata": {},
   "source": [
    "## Task 4\n",
    "\n",
    "A botanist friend of yours invites you out on a nature walk. You divulge to them that you would like to learn more about all of the different indigenous plants around Vancouver. They mention that they are thinking of working on a \"Plants of Vancouver\" website and they asked if you would be interested in helping. You think this is rad because you could practice your Python skillz at the same time gaining a good understanding about Vancouver's native plants.\n",
    "\n",
    "To start, you think it would be good to come up with a data definition for each kind of plant. You decide to start with a `DeciduousTrees` data type. \n",
    "\n",
    "Design a data type to capture the information you would want to know about the characteristics of each deciduous tree. It might be good if information about the trees could be updated from time to time."
   ]
  },
  {
   "cell_type": "code",
   "execution_count": null,
   "metadata": {},
   "outputs": [],
   "source": []
  },
  {
   "cell_type": "markdown",
   "metadata": {},
   "source": [
    "## Task 5\n",
    "\n",
    "Design a datatype to describe the shape of a rectangle. There are many ways to do this. If you end up needing more than one data type to accomplish this, be sure to define it also."
   ]
  },
  {
   "cell_type": "code",
   "execution_count": null,
   "metadata": {},
   "outputs": [],
   "source": []
  },
  {
   "attachments": {
    "968c6a83-eaad-4155-aafb-fad5862bb416.png": {
     "image/png": "[encoded data removed]"
    }
   },
   "cell_type": "markdown",
   "metadata": {},
   "source": [
    "## Task 6\n",
    "\n",
    "The game of chess has a particular kind of notation to describe all of the moves on a board. The columns a-h are called _files_ and the rows 1-8 are called _ranks_ (as in \"rank and file\").\n",
    "\n",
    "There are two players, white and black. The game is over when one player captures the king of the opposing player.\n",
    "\n",
    "![image.png](attachment:968c6a83-eaad-4155-aafb-fad5862bb416.png)\n",
    "(Image from Wikipedia)\n",
    "\n",
    "In general, a move in chess is described in _algebraic notation_ as follows: `[Piece name][[Capture]][To square][[extra]]`, where the `Capture` and `extra` portion is optional (only if a capture happens or check or checkmate occurs, see below). e.g. `Bg5` would be \"Bishop moves to g5\". If the bishop captured a piece on g5, it would be `Bxg5`. It is implied that there is only one bishop that can legally make that move (its position known by the game's history) so you don't need to give the starting square (however there are exceptions to this, which we will ignore for this Python task). \n",
    "\n",
    "The letters used to describe the pieces are as follows (in English, only):\n",
    "\n",
    "* K: King\n",
    "* Q: Queen\n",
    "* R: Rook\n",
    "* B: Bishop\n",
    "* N: Knight\n",
    "\n",
    "Pawns are not identified with an upper case letter but are identified by the _absence_ of one, e.g. `e4` would communicate that a pawn moved to square \"e4\". However, if a pawn makes a capture, the _file_ that the pawn was _from_ is given: `exd5` \"The pawn from file 'e' captures the piece on d5\". If the pawn does not have an identfier, maybe it could just be an empty str, `\"\"`?\n",
    "\n",
    "**Four other additional notations:**\n",
    "\n",
    "1. \"Check\" - A move indicating that the king can potentially be captured in the next move. This is indicated with a `+` in the `extra` portion.\n",
    "2. \"Checkmate\" - A position where the opposing play cannot move without losing their king. This is typically the end of the game. This is indicated with a `#` in the extra portion.\n",
    "3. The move number - Goes in sequence starting from `1`.\n",
    "4. Score - Written as `1-0` if white won or `0-1` if black won. Comes as the last line at the end of the game.\n",
    "\n",
    "So, in the end, a game would look something like this:\n",
    "\n",
    "```\n",
    "1. e4 e5    # white's move is on the left, black's is on the right\n",
    "2. Nf3 Nc6\n",
    "3. Bb5 a6\n",
    "4. Nxe5 Ng6      # white captured black's pawn e5\n",
    "\n",
    "...\n",
    "\n",
    "31. Bd6 Rc2#     # black won in checkmate on the 31st turn\n",
    "0-1\n",
    "```\n",
    "\n",
    "Design two data types to represent an entire chess game. Note, this will likely be easier than it sounds. You are just designing a data type to record all these pieces of information separately. You are _not_ going to write functions to take the data types and format them into a printed game summary (like above). In short, you just need to design data types to record the following:\n",
    "\n",
    "* The player (white or black)\n",
    "* The turn number\n",
    "* The piece that moves\n",
    "* Where it moves to\n",
    "* Does it make a capture?\n",
    "    * If the pawn makes a capture, the _file_ of the pawn\n",
    "* Does it place the king in check?\n",
    "* Does it place the player in checkmate?\n",
    "* Which player won the game\n",
    "\n",
    "Design one data type, `ChessMove` and another data type `ChessGame` which will have one attribute that collects `ChessMove`s.\n",
    "\n",
    "This is a task that has a long explanation but should not actually be that much work :)"
   ]
  },
  {
   "cell_type": "code",
   "execution_count": null,
   "metadata": {},
   "outputs": [],
   "source": []
  }
 ],
 "metadata": {
  "kernelspec": {
   "display_name": "Python 3",
   "language": "python",
   "name": "python3"
  },
  "language_info": {
   "codemirror_mode": {
    "name": "ipython",
    "version": 3
   },
   "file_extension": ".py",
   "mimetype": "text/x-python",
   "name": "python",
   "nbconvert_exporter": "python",
   "pygments_lexer": "ipython3",
   "version": "3.7.7"
  }
 },
 "nbformat": 4,
 "nbformat_minor": 4
}
